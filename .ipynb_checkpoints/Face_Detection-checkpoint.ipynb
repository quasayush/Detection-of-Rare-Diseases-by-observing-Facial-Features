{
 "cells": [
  {
   "cell_type": "markdown",
   "metadata": {
    "id": "3rWi5vZtijIG"
   },
   "source": [
    "# **Face Detection Part developed for Detection of rare diseases using Facial Features**\n",
    "\n",
    "> \n",
    "\n",
    "\n",
    "\n",
    "\n",
    "\n",
    "\n",
    "*   Run each cell\n",
    "*   There is an option of running between the last two cell for GPU enabled and non-enabled devices.\n",
    "\n",
    "*   Developed on Google Colab (might give some eror in addresses on different platform).\n",
    "\n",
    "by Ayush Kumar\n",
    "\n",
    "2017B5A70761P\n",
    "\n",
    "\n",
    "\n",
    "\n"
   ]
  },
  {
   "cell_type": "code",
   "execution_count": 1,
   "metadata": {
    "colab": {
     "base_uri": "https://localhost:8080/"
    },
    "id": "YUgmOa9aUBY9",
    "outputId": "1eac3423-d46d-4742-d22d-96267304f157"
   },
   "outputs": [
    {
     "name": "stderr",
     "output_type": "stream",
     "text": [
      "Cloning into 'face_recognition'...\n"
     ]
    }
   ],
   "source": [
    "!git clone https://github.com/ageitgey/face_recognition.git"
   ]
  },
  {
   "cell_type": "code",
   "execution_count": null,
   "metadata": {
    "colab": {
     "base_uri": "https://localhost:8080/"
    },
    "id": "dJvd4-OlWrpu",
    "outputId": "aaa3a4b5-f615-4354-aa0a-02d06db17770"
   },
   "outputs": [
    {
     "name": "stdout",
     "output_type": "stream",
     "text": [
      "Collecting face_recognition_models\n",
      "\u001b[?25l  Downloading https://files.pythonhosted.org/packages/cf/3b/4fd8c534f6c0d1b80ce0973d01331525538045084c73c153ee6df20224cf/face_recognition_models-0.3.0.tar.gz (100.1MB)\n",
      "\u001b[K     |████████████████████████████████| 100.2MB 42kB/s \n",
      "\u001b[?25hRequirement already satisfied: Click>=6.0 in /usr/local/lib/python3.6/dist-packages (from -r /content/face_recognition/requirements.txt (line 2)) (7.1.2)\n",
      "Requirement already satisfied: dlib>=19.3.0 in /usr/local/lib/python3.6/dist-packages (from -r /content/face_recognition/requirements.txt (line 3)) (19.18.0)\n",
      "Requirement already satisfied: numpy in /usr/local/lib/python3.6/dist-packages (from -r /content/face_recognition/requirements.txt (line 4)) (1.18.5)\n",
      "Requirement already satisfied: Pillow in /usr/local/lib/python3.6/dist-packages (from -r /content/face_recognition/requirements.txt (line 5)) (7.0.0)\n",
      "Requirement already satisfied: scipy>=0.17.0 in /usr/local/lib/python3.6/dist-packages (from -r /content/face_recognition/requirements.txt (line 6)) (1.4.1)\n",
      "Building wheels for collected packages: face-recognition-models\n",
      "  Building wheel for face-recognition-models (setup.py) ... \u001b[?25l\u001b[?25hdone\n",
      "  Created wheel for face-recognition-models: filename=face_recognition_models-0.3.0-py2.py3-none-any.whl size=100566173 sha256=be20f9bba5f30e2c9e96c4b62c49e4ccf4e5507b923186f30f8d3c2c2de64d26\n",
      "  Stored in directory: /root/.cache/pip/wheels/d2/99/18/59c6c8f01e39810415c0e63f5bede7d83dfb0ffc039865465f\n",
      "Successfully built face-recognition-models\n",
      "Installing collected packages: face-recognition-models\n",
      "Successfully installed face-recognition-models-0.3.0\n"
     ]
    }
   ],
   "source": [
    "!pip install -r /content/face_recognition/requirements.txt"
   ]
  },
  {
   "cell_type": "code",
   "execution_count": null,
   "metadata": {
    "colab": {
     "base_uri": "https://localhost:8080/"
    },
    "id": "beOjXZ06Xm1X",
    "outputId": "1a53fe03-a314-433a-8a61-d99ade8f94ed"
   },
   "outputs": [
    {
     "name": "stdout",
     "output_type": "stream",
     "text": [
      "Cloning into 'dlib'...\n",
      "remote: Enumerating objects: 9, done.\u001b[K\n",
      "remote: Counting objects: 100% (9/9), done.\u001b[K\n",
      "remote: Compressing objects: 100% (7/7), done.\u001b[K\n",
      "remote: Total 48687 (delta 3), reused 3 (delta 2), pack-reused 48678\u001b[K\n",
      "Receiving objects: 100% (48687/48687), 23.05 MiB | 25.94 MiB/s, done.\n",
      "Resolving deltas: 100% (34408/34408), done.\n"
     ]
    }
   ],
   "source": [
    "!git clone https://github.com/davisking/dlib.git"
   ]
  },
  {
   "cell_type": "code",
   "execution_count": null,
   "metadata": {
    "colab": {
     "base_uri": "https://localhost:8080/"
    },
    "id": "-uEGNOZlX_8y",
    "outputId": "e2849560-0e7d-4ff3-9e71-bd07cde6c62c"
   },
   "outputs": [
    {
     "name": "stdout",
     "output_type": "stream",
     "text": [
      "/content/dlib\n"
     ]
    }
   ],
   "source": [
    "%cd dlib\n"
   ]
  },
  {
   "cell_type": "code",
   "execution_count": null,
   "metadata": {
    "id": "FC91QCHTYHfy"
   },
   "outputs": [],
   "source": [
    "!mkdir build; "
   ]
  },
  {
   "cell_type": "code",
   "execution_count": null,
   "metadata": {
    "colab": {
     "base_uri": "https://localhost:8080/"
    },
    "id": "t4j4C8wdYMdc",
    "outputId": "2bc17313-7266-4d72-d144-f4e34bdb7022"
   },
   "outputs": [
    {
     "name": "stdout",
     "output_type": "stream",
     "text": [
      "/content/dlib/build\n"
     ]
    }
   ],
   "source": [
    "%cd ./build"
   ]
  },
  {
   "cell_type": "code",
   "execution_count": null,
   "metadata": {
    "colab": {
     "base_uri": "https://localhost:8080/"
    },
    "id": "PrXKmwAbYQnZ",
    "outputId": "a9c8cadb-bc09-4ddb-a79c-ab02e936a58f"
   },
   "outputs": [
    {
     "name": "stdout",
     "output_type": "stream",
     "text": [
      "-- The C compiler identification is GNU 7.5.0\n",
      "-- The CXX compiler identification is GNU 7.5.0\n",
      "-- Check for working C compiler: /usr/bin/cc\n",
      "-- Check for working C compiler: /usr/bin/cc -- works\n",
      "-- Detecting C compiler ABI info\n",
      "-- Detecting C compiler ABI info - done\n",
      "-- Detecting C compile features\n",
      "-- Detecting C compile features - done\n",
      "-- Check for working CXX compiler: /usr/bin/c++\n",
      "-- Check for working CXX compiler: /usr/bin/c++ -- works\n",
      "-- Detecting CXX compiler ABI info\n",
      "-- Detecting CXX compiler ABI info - done\n",
      "-- Detecting CXX compile features\n",
      "-- Detecting CXX compile features - done\n",
      "-- Using CMake version: 3.12.0\n",
      "-- Compiling dlib version: 19.21.99\n",
      "-- Looking for pthread.h\n",
      "-- Looking for pthread.h - found\n",
      "-- Looking for pthread_create\n",
      "-- Looking for pthread_create - not found\n",
      "-- Looking for pthread_create in pthreads\n",
      "-- Looking for pthread_create in pthreads - not found\n",
      "-- Looking for pthread_create in pthread\n",
      "-- Looking for pthread_create in pthread - found\n",
      "-- Found Threads: TRUE  \n",
      "-- Looking for XOpenDisplay in /usr/lib/x86_64-linux-gnu/libX11.so;/usr/lib/x86_64-linux-gnu/libXext.so\n",
      "-- Looking for XOpenDisplay in /usr/lib/x86_64-linux-gnu/libX11.so;/usr/lib/x86_64-linux-gnu/libXext.so - found\n",
      "-- Looking for gethostbyname\n",
      "-- Looking for gethostbyname - found\n",
      "-- Looking for connect\n",
      "-- Looking for connect - found\n",
      "-- Looking for remove\n",
      "-- Looking for remove - found\n",
      "-- Looking for shmat\n",
      "-- Looking for shmat - found\n",
      "-- Looking for IceConnectionNumber in ICE\n",
      "-- Looking for IceConnectionNumber in ICE - found\n",
      "-- Found X11: /usr/lib/x86_64-linux-gnu/libX11.so\n",
      "-- Found system copy of libpng: /usr/lib/x86_64-linux-gnu/libpng.so;/usr/lib/x86_64-linux-gnu/libz.so\n",
      "-- Found system copy of libjpeg: /usr/lib/x86_64-linux-gnu/libjpeg.so\n",
      "-- Searching for BLAS and LAPACK\n",
      "-- Searching for BLAS and LAPACK\n",
      "-- Found PkgConfig: /usr/bin/pkg-config (found version \"0.29.1\") \n",
      "-- Checking for module 'cblas'\n",
      "--   No package 'cblas' found\n",
      "-- Checking for module 'lapack'\n",
      "--   Found lapack, version 0.2.20+ds\n",
      "-- Looking for cblas_ddot\n",
      "-- Looking for cblas_ddot - not found\n",
      "-- Looking for sys/types.h\n",
      "-- Looking for sys/types.h - found\n",
      "-- Looking for stdint.h\n",
      "-- Looking for stdint.h - found\n",
      "-- Looking for stddef.h\n",
      "-- Looking for stddef.h - found\n",
      "-- Check size of void*\n",
      "-- Check size of void* - done\n",
      "-- Found Intel MKL BLAS/LAPACK library\n",
      "-- Looking for sgesv\n",
      "-- Looking for sgesv - found\n",
      "-- Looking for sgesv_\n",
      "-- Looking for sgesv_ - found\n",
      "-- Found CUDA: /usr/local/cuda (found suitable version \"10.1\", minimum required is \"7.5\") \n",
      "-- Looking for cuDNN install...\n",
      "-- Found cuDNN: /usr/lib/x86_64-linux-gnu/libcudnn.so\n",
      "-- Building a CUDA test project to see if your compiler is compatible with CUDA...\n",
      "-- Building a cuDNN test project to check if you have the right version of cuDNN installed...\n",
      "-- Enabling CUDA support for dlib.  DLIB WILL USE CUDA\n",
      "-- C++11 activated.\n",
      "-- Configuring done\n",
      "-- Generating done\n",
      "-- Build files have been written to: /content/dlib/build\n"
     ]
    }
   ],
   "source": [
    " !cmake .."
   ]
  },
  {
   "cell_type": "code",
   "execution_count": null,
   "metadata": {
    "colab": {
     "base_uri": "https://localhost:8080/"
    },
    "id": "YfyyI9U9YTpz",
    "outputId": "2706b1d4-f926-4aec-8fd5-1672bb23f025"
   },
   "outputs": [
    {
     "name": "stdout",
     "output_type": "stream",
     "text": [
      "Usage: cmake --build <dir> [options] [-- [native-options]]\n",
      "Options:\n",
      "  <dir>          = Project binary directory to be built.\n",
      "  -j [<jobs>] --parallel [<jobs>] = Build in parallel using\n",
      "                   the given number of jobs. If <jobs> is omitted\n",
      "                   the native build tool's default number is used.\n",
      "                   The CMAKE_BUILD_PARALLEL_LEVEL environment variable\n",
      "                   specifies a default parallel level when this option\n",
      "                   is not given.\n",
      "  --target <tgt> = Build <tgt> instead of default targets.\n",
      "                   May only be specified once.\n",
      "  --config <cfg> = For multi-configuration tools, choose <cfg>.\n",
      "  --clean-first  = Build target 'clean' first, then build.\n",
      "                   (To clean only, use --target 'clean'.)\n",
      "  --use-stderr   = Ignored.  Behavior is default in CMake >= 3.0.\n",
      "  --             = Pass remaining options to the native tool.\n"
     ]
    }
   ],
   "source": [
    "!cmake --build"
   ]
  },
  {
   "cell_type": "code",
   "execution_count": null,
   "metadata": {
    "colab": {
     "base_uri": "https://localhost:8080/"
    },
    "id": "djYAY_rkZIWz",
    "outputId": "47f43f76-3419-41a9-8b16-3422fc3e10e8"
   },
   "outputs": [
    {
     "name": "stdout",
     "output_type": "stream",
     "text": [
      "/content/dlib\n"
     ]
    }
   ],
   "source": [
    "%cd .."
   ]
  },
  {
   "cell_type": "code",
   "execution_count": null,
   "metadata": {
    "colab": {
     "base_uri": "https://localhost:8080/"
    },
    "id": "JPhLSw4EZOYy",
    "outputId": "c1011bd9-7c99-4d2b-8b57-637bbe4e80fb"
   },
   "outputs": [
    {
     "name": "stdout",
     "output_type": "stream",
     "text": [
      "running install\n",
      "running bdist_egg\n",
      "running egg_info\n",
      "creating tools/python/dlib.egg-info\n",
      "writing tools/python/dlib.egg-info/PKG-INFO\n",
      "writing dependency_links to tools/python/dlib.egg-info/dependency_links.txt\n",
      "writing top-level names to tools/python/dlib.egg-info/top_level.txt\n",
      "writing manifest file 'tools/python/dlib.egg-info/SOURCES.txt'\n",
      "package init file 'tools/python/dlib/__init__.py' not found (or not a regular file)\n",
      "reading manifest template 'MANIFEST.in'\n",
      "no previously-included directories found matching 'tools/python/build*'\n",
      "writing manifest file 'tools/python/dlib.egg-info/SOURCES.txt'\n",
      "installing library code to build/bdist.linux-x86_64/egg\n",
      "running install_lib\n",
      "running build_py\n",
      "running build_ext\n",
      "Building extension for Python 3.6.9 (default, Oct  8 2020, 12:12:24) \n",
      "Invoking CMake setup: 'cmake /content/dlib/tools/python -DCMAKE_LIBRARY_OUTPUT_DIRECTORY=/content/dlib/build/lib.linux-x86_64-3.6 -DPYTHON_EXECUTABLE=/usr/bin/python3 -DCMAKE_BUILD_TYPE=Release'\n",
      "-- The C compiler identification is GNU 7.5.0\n",
      "-- The CXX compiler identification is GNU 7.5.0\n",
      "-- Check for working C compiler: /usr/bin/cc\n",
      "-- Check for working C compiler: /usr/bin/cc -- works\n",
      "-- Detecting C compiler ABI info\n",
      "-- Detecting C compiler ABI info - done\n",
      "-- Detecting C compile features\n",
      "-- Detecting C compile features - done\n",
      "-- Check for working CXX compiler: /usr/bin/c++\n",
      "-- Check for working CXX compiler: /usr/bin/c++ -- works\n",
      "-- Detecting CXX compiler ABI info\n",
      "-- Detecting CXX compiler ABI info - done\n",
      "-- Detecting CXX compile features\n",
      "-- Detecting CXX compile features - done\n",
      "-- Found PythonInterp: /usr/bin/python3 (found version \"3.6.9\") \n",
      "-- Found PythonLibs: /usr/lib/x86_64-linux-gnu/libpython3.6m.so\n",
      "-- Performing Test HAS_CPP14_FLAG\n",
      "-- Performing Test HAS_CPP14_FLAG - Success\n",
      "-- pybind11 v2.2.4\n",
      "-- Using CMake version: 3.12.0\n",
      "-- Compiling dlib version: 19.21.99\n",
      "-- SSE4 instructions can be executed by the host processor.\n",
      "-- AVX instructions can be executed by the host processor.\n",
      "-- Enabling AVX instructions\n",
      "-- Looking for pthread.h\n",
      "-- Looking for pthread.h - found\n",
      "-- Looking for pthread_create\n",
      "-- Looking for pthread_create - not found\n",
      "-- Looking for pthread_create in pthreads\n",
      "-- Looking for pthread_create in pthreads - not found\n",
      "-- Looking for pthread_create in pthread\n",
      "-- Looking for pthread_create in pthread - found\n",
      "-- Found Threads: TRUE  \n",
      "-- Looking for XOpenDisplay in /usr/lib/x86_64-linux-gnu/libX11.so;/usr/lib/x86_64-linux-gnu/libXext.so\n",
      "-- Looking for XOpenDisplay in /usr/lib/x86_64-linux-gnu/libX11.so;/usr/lib/x86_64-linux-gnu/libXext.so - found\n",
      "-- Looking for gethostbyname\n",
      "-- Looking for gethostbyname - found\n",
      "-- Looking for connect\n",
      "-- Looking for connect - found\n",
      "-- Looking for remove\n",
      "-- Looking for remove - found\n",
      "-- Looking for shmat\n",
      "-- Looking for shmat - found\n",
      "-- Looking for IceConnectionNumber in ICE\n",
      "-- Looking for IceConnectionNumber in ICE - found\n",
      "-- Found X11: /usr/lib/x86_64-linux-gnu/libX11.so\n",
      "-- Found system copy of libpng: /usr/lib/x86_64-linux-gnu/libpng.so;/usr/lib/x86_64-linux-gnu/libz.so\n",
      "-- Found system copy of libjpeg: /usr/lib/x86_64-linux-gnu/libjpeg.so\n",
      "-- Searching for BLAS and LAPACK\n",
      "-- Searching for BLAS and LAPACK\n",
      "-- Found PkgConfig: /usr/bin/pkg-config (found version \"0.29.1\") \n",
      "-- Checking for module 'cblas'\n",
      "--   No package 'cblas' found\n",
      "-- Checking for module 'lapack'\n",
      "--   Found lapack, version 0.2.20+ds\n",
      "-- Looking for cblas_ddot\n",
      "-- Looking for cblas_ddot - not found\n",
      "-- Looking for sys/types.h\n",
      "-- Looking for sys/types.h - found\n",
      "-- Looking for stdint.h\n",
      "-- Looking for stdint.h - found\n",
      "-- Looking for stddef.h\n",
      "-- Looking for stddef.h - found\n",
      "-- Check size of void*\n",
      "-- Check size of void* - done\n",
      "-- Found Intel MKL BLAS/LAPACK library\n",
      "-- Looking for sgesv\n",
      "-- Looking for sgesv - found\n",
      "-- Looking for sgesv_\n",
      "-- Looking for sgesv_ - found\n",
      "-- Found CUDA: /usr/local/cuda (found suitable version \"10.1\", minimum required is \"7.5\") \n",
      "-- Looking for cuDNN install...\n",
      "-- Found cuDNN: /usr/lib/x86_64-linux-gnu/libcudnn.so\n",
      "-- Building a CUDA test project to see if your compiler is compatible with CUDA...\n",
      "-- Building a cuDNN test project to check if you have the right version of cuDNN installed...\n",
      "-- Enabling CUDA support for dlib.  DLIB WILL USE CUDA\n",
      "-- C++11 activated.\n",
      "-- Configuring done\n",
      "-- Generating done\n",
      "-- Build files have been written to: /content/dlib/build/temp.linux-x86_64-3.6\n",
      "Invoking CMake build: 'cmake --build . --config Release -- -j2'\n",
      "[  1%] \u001b[34m\u001b[1mBuilding NVCC (Device) object dlib_build/CMakeFiles/dlib.dir/cuda/dlib_generated_cusolver_dlibapi.cu.o\u001b[0m\n",
      "[  2%] \u001b[34m\u001b[1mBuilding NVCC (Device) object dlib_build/CMakeFiles/dlib.dir/cuda/dlib_generated_cuda_dlib.cu.o\u001b[0m\n",
      "\u001b[35m\u001b[1mScanning dependencies of target dlib\u001b[0m\n",
      "[  3%] \u001b[32mBuilding CXX object dlib_build/CMakeFiles/dlib.dir/base64/base64_kernel_1.cpp.o\u001b[0m\n",
      "[  4%] \u001b[32mBuilding CXX object dlib_build/CMakeFiles/dlib.dir/bigint/bigint_kernel_1.cpp.o\u001b[0m\n",
      "[  5%] \u001b[32mBuilding CXX object dlib_build/CMakeFiles/dlib.dir/bigint/bigint_kernel_2.cpp.o\u001b[0m\n",
      "[  6%] \u001b[32mBuilding CXX object dlib_build/CMakeFiles/dlib.dir/bit_stream/bit_stream_kernel_1.cpp.o\u001b[0m\n",
      "[  7%] \u001b[32mBuilding CXX object dlib_build/CMakeFiles/dlib.dir/entropy_decoder/entropy_decoder_kernel_1.cpp.o\u001b[0m\n",
      "[  8%] \u001b[32mBuilding CXX object dlib_build/CMakeFiles/dlib.dir/entropy_decoder/entropy_decoder_kernel_2.cpp.o\u001b[0m\n",
      "[  9%] \u001b[32mBuilding CXX object dlib_build/CMakeFiles/dlib.dir/entropy_encoder/entropy_encoder_kernel_1.cpp.o\u001b[0m\n",
      "[ 10%] \u001b[32mBuilding CXX object dlib_build/CMakeFiles/dlib.dir/entropy_encoder/entropy_encoder_kernel_2.cpp.o\u001b[0m\n",
      "[ 11%] \u001b[32mBuilding CXX object dlib_build/CMakeFiles/dlib.dir/md5/md5_kernel_1.cpp.o\u001b[0m\n",
      "[ 12%] \u001b[32mBuilding CXX object dlib_build/CMakeFiles/dlib.dir/tokenizer/tokenizer_kernel_1.cpp.o\u001b[0m\n",
      "[ 13%] \u001b[32mBuilding CXX object dlib_build/CMakeFiles/dlib.dir/unicode/unicode.cpp.o\u001b[0m\n",
      "[ 14%] \u001b[32mBuilding CXX object dlib_build/CMakeFiles/dlib.dir/test_for_odr_violations.cpp.o\u001b[0m\n",
      "[ 15%] \u001b[32mBuilding CXX object dlib_build/CMakeFiles/dlib.dir/sockets/sockets_kernel_1.cpp.o\u001b[0m\n",
      "[ 17%] \u001b[32mBuilding CXX object dlib_build/CMakeFiles/dlib.dir/bsp/bsp.cpp.o\u001b[0m\n",
      "[ 18%] \u001b[32mBuilding CXX object dlib_build/CMakeFiles/dlib.dir/dir_nav/dir_nav_kernel_1.cpp.o\u001b[0m\n",
      "[ 19%] \u001b[32mBuilding CXX object dlib_build/CMakeFiles/dlib.dir/dir_nav/dir_nav_kernel_2.cpp.o\u001b[0m\n",
      "[ 20%] \u001b[32mBuilding CXX object dlib_build/CMakeFiles/dlib.dir/dir_nav/dir_nav_extensions.cpp.o\u001b[0m\n",
      "[ 21%] \u001b[32mBuilding CXX object dlib_build/CMakeFiles/dlib.dir/linker/linker_kernel_1.cpp.o\u001b[0m\n",
      "[ 22%] \u001b[32mBuilding CXX object dlib_build/CMakeFiles/dlib.dir/logger/extra_logger_headers.cpp.o\u001b[0m\n",
      "[ 23%] \u001b[32mBuilding CXX object dlib_build/CMakeFiles/dlib.dir/logger/logger_kernel_1.cpp.o\u001b[0m\n",
      "[ 24%] \u001b[32mBuilding CXX object dlib_build/CMakeFiles/dlib.dir/logger/logger_config_file.cpp.o\u001b[0m\n",
      "[ 25%] \u001b[32mBuilding CXX object dlib_build/CMakeFiles/dlib.dir/misc_api/misc_api_kernel_1.cpp.o\u001b[0m\n",
      "[ 26%] \u001b[32mBuilding CXX object dlib_build/CMakeFiles/dlib.dir/misc_api/misc_api_kernel_2.cpp.o\u001b[0m\n",
      "[ 27%] \u001b[32mBuilding CXX object dlib_build/CMakeFiles/dlib.dir/sockets/sockets_extensions.cpp.o\u001b[0m\n",
      "[ 28%] \u001b[32mBuilding CXX object dlib_build/CMakeFiles/dlib.dir/sockets/sockets_kernel_2.cpp.o\u001b[0m\n",
      "[ 29%] \u001b[32mBuilding CXX object dlib_build/CMakeFiles/dlib.dir/sockstreambuf/sockstreambuf.cpp.o\u001b[0m\n",
      "[ 30%] \u001b[32mBuilding CXX object dlib_build/CMakeFiles/dlib.dir/sockstreambuf/sockstreambuf_unbuffered.cpp.o\u001b[0m\n",
      "[ 31%] \u001b[32mBuilding CXX object dlib_build/CMakeFiles/dlib.dir/server/server_kernel.cpp.o\u001b[0m\n",
      "[ 32%] \u001b[32mBuilding CXX object dlib_build/CMakeFiles/dlib.dir/server/server_iostream.cpp.o\u001b[0m\n",
      "[ 34%] \u001b[32mBuilding CXX object dlib_build/CMakeFiles/dlib.dir/server/server_http.cpp.o\u001b[0m\n",
      "[ 35%] \u001b[32mBuilding CXX object dlib_build/CMakeFiles/dlib.dir/threads/multithreaded_object_extension.cpp.o\u001b[0m\n",
      "[ 36%] \u001b[32mBuilding CXX object dlib_build/CMakeFiles/dlib.dir/threads/threaded_object_extension.cpp.o\u001b[0m\n",
      "[ 37%] \u001b[32mBuilding CXX object dlib_build/CMakeFiles/dlib.dir/threads/threads_kernel_1.cpp.o\u001b[0m\n",
      "[ 38%] \u001b[32mBuilding CXX object dlib_build/CMakeFiles/dlib.dir/threads/threads_kernel_2.cpp.o\u001b[0m\n",
      "[ 39%] \u001b[32mBuilding CXX object dlib_build/CMakeFiles/dlib.dir/threads/threads_kernel_shared.cpp.o\u001b[0m\n",
      "[ 40%] \u001b[32mBuilding CXX object dlib_build/CMakeFiles/dlib.dir/threads/thread_pool_extension.cpp.o\u001b[0m\n",
      "[ 41%] \u001b[32mBuilding CXX object dlib_build/CMakeFiles/dlib.dir/threads/async.cpp.o\u001b[0m\n",
      "[ 42%] \u001b[32mBuilding CXX object dlib_build/CMakeFiles/dlib.dir/timer/timer.cpp.o\u001b[0m\n",
      "[ 43%] \u001b[32mBuilding CXX object dlib_build/CMakeFiles/dlib.dir/stack_trace.cpp.o\u001b[0m\n",
      "[ 44%] \u001b[32mBuilding CXX object dlib_build/CMakeFiles/dlib.dir/cuda/cpu_dlib.cpp.o\u001b[0m\n",
      "[ 45%] \u001b[32mBuilding CXX object dlib_build/CMakeFiles/dlib.dir/cuda/tensor_tools.cpp.o\u001b[0m\n",
      "[ 46%] \u001b[32mBuilding CXX object dlib_build/CMakeFiles/dlib.dir/data_io/image_dataset_metadata.cpp.o\u001b[0m\n",
      "[ 47%] \u001b[32mBuilding CXX object dlib_build/CMakeFiles/dlib.dir/data_io/mnist.cpp.o\u001b[0m\n",
      "[ 48%] \u001b[32mBuilding CXX object dlib_build/CMakeFiles/dlib.dir/data_io/cifar.cpp.o\u001b[0m\n",
      "[ 50%] \u001b[32mBuilding CXX object dlib_build/CMakeFiles/dlib.dir/global_optimization/global_function_search.cpp.o\u001b[0m\n",
      "[ 51%] \u001b[32mBuilding CXX object dlib_build/CMakeFiles/dlib.dir/filtering/kalman_filter.cpp.o\u001b[0m\n",
      "[ 52%] \u001b[32mBuilding CXX object dlib_build/CMakeFiles/dlib.dir/svm/auto.cpp.o\u001b[0m\n",
      "[ 53%] \u001b[32mBuilding CXX object dlib_build/CMakeFiles/dlib.dir/gui_widgets/fonts.cpp.o\u001b[0m\n",
      "[ 54%] \u001b[32mBuilding CXX object dlib_build/CMakeFiles/dlib.dir/gui_widgets/widgets.cpp.o\u001b[0m\n",
      "[ 55%] \u001b[32mBuilding CXX object dlib_build/CMakeFiles/dlib.dir/gui_widgets/drawable.cpp.o\u001b[0m\n",
      "[ 56%] \u001b[32mBuilding CXX object dlib_build/CMakeFiles/dlib.dir/gui_widgets/canvas_drawing.cpp.o\u001b[0m\n",
      "[ 57%] \u001b[32mBuilding CXX object dlib_build/CMakeFiles/dlib.dir/gui_widgets/style.cpp.o\u001b[0m\n",
      "[ 58%] \u001b[32mBuilding CXX object dlib_build/CMakeFiles/dlib.dir/gui_widgets/base_widgets.cpp.o\u001b[0m\n",
      "[ 59%] \u001b[32mBuilding CXX object dlib_build/CMakeFiles/dlib.dir/gui_core/gui_core_kernel_1.cpp.o\u001b[0m\n",
      "[ 60%] \u001b[32mBuilding CXX object dlib_build/CMakeFiles/dlib.dir/gui_core/gui_core_kernel_2.cpp.o\u001b[0m\n",
      "[ 61%] \u001b[32mBuilding CXX object dlib_build/CMakeFiles/dlib.dir/image_loader/png_loader.cpp.o\u001b[0m\n",
      "[ 62%] \u001b[32mBuilding CXX object dlib_build/CMakeFiles/dlib.dir/image_saver/save_png.cpp.o\u001b[0m\n",
      "[ 63%] \u001b[32mBuilding CXX object dlib_build/CMakeFiles/dlib.dir/image_loader/jpeg_loader.cpp.o\u001b[0m\n",
      "[ 64%] \u001b[32mBuilding CXX object dlib_build/CMakeFiles/dlib.dir/image_saver/save_jpeg.cpp.o\u001b[0m\n",
      "[ 65%] \u001b[32mBuilding CXX object dlib_build/CMakeFiles/dlib.dir/cuda/cudnn_dlibapi.cpp.o\u001b[0m\n",
      "[ 67%] \u001b[32mBuilding CXX object dlib_build/CMakeFiles/dlib.dir/cuda/cublas_dlibapi.cpp.o\u001b[0m\n",
      "[ 68%] \u001b[32mBuilding CXX object dlib_build/CMakeFiles/dlib.dir/cuda/curand_dlibapi.cpp.o\u001b[0m\n",
      "[ 69%] \u001b[32mBuilding CXX object dlib_build/CMakeFiles/dlib.dir/cuda/cuda_data_ptr.cpp.o\u001b[0m\n",
      "[ 70%] \u001b[32mBuilding CXX object dlib_build/CMakeFiles/dlib.dir/cuda/gpu_data.cpp.o\u001b[0m\n",
      "[ 71%] \u001b[32m\u001b[1mLinking CXX static library libdlib.a\u001b[0m\n",
      "[ 71%] Built target dlib\n",
      "\u001b[35m\u001b[1mScanning dependencies of target _dlib_pybind11\u001b[0m\n",
      "[ 72%] \u001b[32mBuilding CXX object CMakeFiles/_dlib_pybind11.dir/src/dlib.cpp.o\u001b[0m\n",
      "[ 73%] \u001b[32mBuilding CXX object CMakeFiles/_dlib_pybind11.dir/src/matrix.cpp.o\u001b[0m\n",
      "[ 74%] \u001b[32mBuilding CXX object CMakeFiles/_dlib_pybind11.dir/src/vector.cpp.o\u001b[0m\n",
      "[ 75%] \u001b[32mBuilding CXX object CMakeFiles/_dlib_pybind11.dir/src/svm_c_trainer.cpp.o\u001b[0m\n",
      "[ 76%] \u001b[32mBuilding CXX object CMakeFiles/_dlib_pybind11.dir/src/svm_rank_trainer.cpp.o\u001b[0m\n",
      "[ 77%] \u001b[32mBuilding CXX object CMakeFiles/_dlib_pybind11.dir/src/decision_functions.cpp.o\u001b[0m\n",
      "[ 78%] \u001b[32mBuilding CXX object CMakeFiles/_dlib_pybind11.dir/src/other.cpp.o\u001b[0m\n",
      "[ 79%] \u001b[32mBuilding CXX object CMakeFiles/_dlib_pybind11.dir/src/basic.cpp.o\u001b[0m\n",
      "[ 80%] \u001b[32mBuilding CXX object CMakeFiles/_dlib_pybind11.dir/src/cca.cpp.o\u001b[0m\n",
      "[ 81%] \u001b[32mBuilding CXX object CMakeFiles/_dlib_pybind11.dir/src/sequence_segmenter.cpp.o\u001b[0m\n",
      "[ 82%] \u001b[32mBuilding CXX object CMakeFiles/_dlib_pybind11.dir/src/svm_struct.cpp.o\u001b[0m\n",
      "[ 84%] \u001b[32mBuilding CXX object CMakeFiles/_dlib_pybind11.dir/src/image.cpp.o\u001b[0m\n",
      "[ 85%] \u001b[32mBuilding CXX object CMakeFiles/_dlib_pybind11.dir/src/image2.cpp.o\u001b[0m\n",
      "[ 86%] \u001b[32mBuilding CXX object CMakeFiles/_dlib_pybind11.dir/src/image3.cpp.o\u001b[0m\n",
      "[ 87%] \u001b[32mBuilding CXX object CMakeFiles/_dlib_pybind11.dir/src/image4.cpp.o\u001b[0m\n",
      "[ 88%] \u001b[32mBuilding CXX object CMakeFiles/_dlib_pybind11.dir/src/rectangles.cpp.o\u001b[0m\n",
      "[ 89%] \u001b[32mBuilding CXX object CMakeFiles/_dlib_pybind11.dir/src/object_detection.cpp.o\u001b[0m\n",
      "[ 90%] \u001b[32mBuilding CXX object CMakeFiles/_dlib_pybind11.dir/src/shape_predictor.cpp.o\u001b[0m\n",
      "[ 91%] \u001b[32mBuilding CXX object CMakeFiles/_dlib_pybind11.dir/src/correlation_tracker.cpp.o\u001b[0m\n",
      "[ 92%] \u001b[32mBuilding CXX object CMakeFiles/_dlib_pybind11.dir/src/face_recognition.cpp.o\u001b[0m\n",
      "[ 93%] \u001b[32mBuilding CXX object CMakeFiles/_dlib_pybind11.dir/src/cnn_face_detector.cpp.o\u001b[0m\n",
      "[ 94%] \u001b[32mBuilding CXX object CMakeFiles/_dlib_pybind11.dir/src/global_optimization.cpp.o\u001b[0m\n",
      "[ 95%] \u001b[32mBuilding CXX object CMakeFiles/_dlib_pybind11.dir/src/image_dataset_metadata.cpp.o\u001b[0m\n",
      "[ 96%] \u001b[32mBuilding CXX object CMakeFiles/_dlib_pybind11.dir/src/numpy_returns.cpp.o\u001b[0m\n",
      "[ 97%] \u001b[32mBuilding CXX object CMakeFiles/_dlib_pybind11.dir/src/line.cpp.o\u001b[0m\n",
      "[ 98%] \u001b[32mBuilding CXX object CMakeFiles/_dlib_pybind11.dir/src/gui.cpp.o\u001b[0m\n",
      "[100%] \u001b[32m\u001b[1mLinking CXX shared module /content/dlib/build/lib.linux-x86_64-3.6/_dlib_pybind11.cpython-36m-x86_64-linux-gnu.so\u001b[0m\n",
      "[100%] Built target _dlib_pybind11\n",
      "creating build/bdist.linux-x86_64\n",
      "creating build/bdist.linux-x86_64/egg\n",
      "creating build/bdist.linux-x86_64/egg/dlib\n",
      "copying build/lib.linux-x86_64-3.6/dlib/__init__.py -> build/bdist.linux-x86_64/egg/dlib\n",
      "copying build/lib.linux-x86_64-3.6/_dlib_pybind11.cpython-36m-x86_64-linux-gnu.so -> build/bdist.linux-x86_64/egg\n",
      "byte-compiling build/bdist.linux-x86_64/egg/dlib/__init__.py to __init__.cpython-36.pyc\n",
      "creating stub loader for _dlib_pybind11.cpython-36m-x86_64-linux-gnu.so\n",
      "byte-compiling build/bdist.linux-x86_64/egg/_dlib_pybind11.py to _dlib_pybind11.cpython-36.pyc\n",
      "creating build/bdist.linux-x86_64/egg/EGG-INFO\n",
      "copying tools/python/dlib.egg-info/PKG-INFO -> build/bdist.linux-x86_64/egg/EGG-INFO\n",
      "copying tools/python/dlib.egg-info/SOURCES.txt -> build/bdist.linux-x86_64/egg/EGG-INFO\n",
      "copying tools/python/dlib.egg-info/dependency_links.txt -> build/bdist.linux-x86_64/egg/EGG-INFO\n",
      "copying tools/python/dlib.egg-info/not-zip-safe -> build/bdist.linux-x86_64/egg/EGG-INFO\n",
      "copying tools/python/dlib.egg-info/top_level.txt -> build/bdist.linux-x86_64/egg/EGG-INFO\n",
      "writing build/bdist.linux-x86_64/egg/EGG-INFO/native_libs.txt\n",
      "creating dist\n",
      "creating 'dist/dlib-19.21.99-py3.6-linux-x86_64.egg' and adding 'build/bdist.linux-x86_64/egg' to it\n",
      "removing 'build/bdist.linux-x86_64/egg' (and everything under it)\n",
      "Processing dlib-19.21.99-py3.6-linux-x86_64.egg\n",
      "creating /usr/local/lib/python3.6/dist-packages/dlib-19.21.99-py3.6-linux-x86_64.egg\n",
      "Extracting dlib-19.21.99-py3.6-linux-x86_64.egg to /usr/local/lib/python3.6/dist-packages\n",
      "Adding dlib 19.21.99 to easy-install.pth file\n",
      "\n",
      "Installed /usr/local/lib/python3.6/dist-packages/dlib-19.21.99-py3.6-linux-x86_64.egg\n",
      "Processing dependencies for dlib==19.21.99\n",
      "Finished processing dependencies for dlib==19.21.99\n"
     ]
    }
   ],
   "source": [
    "!python3 setup.py install"
   ]
  },
  {
   "cell_type": "code",
   "execution_count": null,
   "metadata": {
    "colab": {
     "base_uri": "https://localhost:8080/"
    },
    "id": "wBT49NI4b1Th",
    "outputId": "c81ad28e-1c34-4d1c-c338-029142b313ce"
   },
   "outputs": [
    {
     "name": "stdout",
     "output_type": "stream",
     "text": [
      "/content/face_recognition\n"
     ]
    }
   ],
   "source": [
    "%cd /content/face_recognition"
   ]
  },
  {
   "cell_type": "code",
   "execution_count": null,
   "metadata": {
    "colab": {
     "base_uri": "https://localhost:8080/",
     "height": 258
    },
    "id": "gka78vcicCw7",
    "outputId": "42ab9d8f-77dc-4427-def0-b251ba9e8af3"
   },
   "outputs": [
    {
     "name": "stdout",
     "output_type": "stream",
     "text": [
      "Collecting face_recognition\n",
      "  Downloading https://files.pythonhosted.org/packages/1e/95/f6c9330f54ab07bfa032bf3715c12455a381083125d8880c43cbe76bb3d0/face_recognition-1.3.0-py2.py3-none-any.whl\n",
      "Requirement already satisfied: numpy in /usr/local/lib/python3.6/dist-packages (from face_recognition) (1.18.5)\n",
      "Requirement already satisfied: face-recognition-models>=0.3.0 in /usr/local/lib/python3.6/dist-packages (from face_recognition) (0.3.0)\n",
      "Requirement already satisfied: Pillow in /usr/local/lib/python3.6/dist-packages (from face_recognition) (7.0.0)\n",
      "Requirement already satisfied: Click>=6.0 in /usr/local/lib/python3.6/dist-packages (from face_recognition) (7.1.2)\n",
      "Requirement already satisfied: dlib>=19.7 in /usr/local/lib/python3.6/dist-packages (from face_recognition) (19.18.0)\n",
      "Installing collected packages: face-recognition\n",
      "Successfully installed face-recognition-1.3.0\n"
     ]
    },
    {
     "data": {
      "application/vnd.colab-display-data+json": {
       "pip_warning": {
        "packages": [
         "face_recognition"
        ]
       }
      }
     },
     "metadata": {
      "tags": []
     },
     "output_type": "display_data"
    }
   ],
   "source": [
    "!pip3 install face_recognition"
   ]
  },
  {
   "cell_type": "code",
   "execution_count": null,
   "metadata": {
    "colab": {
     "base_uri": "https://localhost:8080/"
    },
    "id": "b5C0gF-Df7jz",
    "outputId": "7cf51a6a-9ffa-4f73-8463-0d7b3f2a348d"
   },
   "outputs": [
    {
     "name": "stdout",
     "output_type": "stream",
     "text": [
      "I found 1 face(s) in this photograph.\n",
      "A face is located at pixel location Top: 235, Left: 428, Bottom: 518, Right: 712\n"
     ]
    }
   ],
   "source": [
    "###### This cell works well with GPU accelerated Device and is quite accurate.#####\n",
    "from PIL import Image\n",
    "import face_recognition\n",
    "\n",
    "\n",
    "image = face_recognition.load_image_file(\"/content/face_recognition/examples/biden.jpg\")\n",
    "\n",
    "face_locations = face_recognition.face_locations(image, number_of_times_to_upsample=0, model=\"cnn\")\n",
    "\n",
    "print(\"I found {} face(s) in this photograph.\".format(len(face_locations)))\n",
    "\n",
    "for face_location in face_locations:\n",
    "\n",
    "    \n",
    "    top, right, bottom, left = face_location\n",
    "    print(\"A face is located at pixel location Top: {}, Left: {}, Bottom: {}, Right: {}\".format(top, left, bottom, right))\n",
    "\n",
    "    \n",
    "    face_image = image[top:bottom, left:right]\n",
    "    pil_image = Image.fromarray(face_image)\n",
    "    pil_image.show()"
   ]
  },
  {
   "cell_type": "code",
   "execution_count": null,
   "metadata": {
    "colab": {
     "base_uri": "https://localhost:8080/"
    },
    "id": "nS-WCPxhgRhq",
    "outputId": "e03215bd-0c7f-403a-cd1b-27b7408a488a"
   },
   "outputs": [
    {
     "name": "stdout",
     "output_type": "stream",
     "text": [
      "I found 1 face(s) in this photograph.\n",
      "A face is located at pixel location Top: 241, Left: 419, Bottom: 562, Right: 740\n"
     ]
    }
   ],
   "source": [
    "###### This cell works well with non GPU accelerated Device. Not as accurate as above cell.#####\n",
    "\n",
    "from PIL import Image\n",
    "import face_recognition\n",
    "\n",
    "image = face_recognition.load_image_file(\"/content/face_recognition/examples/biden.jpg\")\n",
    "\n",
    "face_locations = face_recognition.face_locations(image)\n",
    "\n",
    "print(\"I found {} face(s) in this photograph.\".format(len(face_locations)))\n",
    "\n",
    "for face_location in face_locations:\n",
    "\n",
    "    \n",
    "    top, right, bottom, left = face_location\n",
    "    print(\"A face is located at pixel location Top: {}, Left: {}, Bottom: {}, Right: {}\".format(top, left, bottom, right))\n",
    "\n",
    "    \n",
    "    face_image = image[top:bottom, left:right]\n",
    "    pil_image = Image.fromarray(face_image)\n",
    "    pil_image.show()\n"
   ]
  },
  {
   "cell_type": "code",
   "execution_count": null,
   "metadata": {
    "id": "QRm3GS1ahmwG"
   },
   "outputs": [],
   "source": []
  }
 ],
 "metadata": {
  "accelerator": "GPU",
  "colab": {
   "collapsed_sections": [],
   "name": "Face_Detection",
   "provenance": []
  },
  "kernelspec": {
   "display_name": "Python 3",
   "language": "python",
   "name": "python3"
  },
  "language_info": {
   "codemirror_mode": {
    "name": "ipython",
    "version": 3
   },
   "file_extension": ".py",
   "mimetype": "text/x-python",
   "name": "python",
   "nbconvert_exporter": "python",
   "pygments_lexer": "ipython3",
   "version": "3.8.3"
  }
 },
 "nbformat": 4,
 "nbformat_minor": 1
}
